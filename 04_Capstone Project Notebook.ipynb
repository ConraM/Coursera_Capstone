{
 "metadata": {
  "language_info": {
   "codemirror_mode": {
    "name": "ipython",
    "version": 3
   },
   "file_extension": ".py",
   "mimetype": "text/x-python",
   "name": "python",
   "nbconvert_exporter": "python",
   "pygments_lexer": "ipython3",
   "version": "3.6.13"
  },
  "orig_nbformat": 2,
  "kernelspec": {
   "name": "python3613jvsc74a57bd026a716618ec01ce43a4d5d8e19bd7fd65e1036c0e8f7dfd38cf9904a6ff8fbff",
   "display_name": "Python 3.6.13 64-bit"
  },
  "metadata": {
   "interpreter": {
    "hash": "26a716618ec01ce43a4d5d8e19bd7fd65e1036c0e8f7dfd38cf9904a6ff8fbff"
   }
  }
 },
 "nbformat": 4,
 "nbformat_minor": 2,
 "cells": [
  {
   "source": [
    "# Week 4 \n",
    "\n",
    "# Peer-graded Assignment: Capstone Poject - The Battle of Neighborhoods (First Week) \n",
    "\n",
    "\n",
    "## Educational Objectives\n",
    "\n",
    "This Notebook will be used for the final project. In this first week, I state the introduction, background, motivation, scope definition, data & methodology used. This capstone project is done by Conrado Montealegre.\n",
    "\n"
   ],
   "cell_type": "markdown",
   "metadata": {}
  },
  {
   "source": [
    "# Title: Comparison of two small cities (towns) in the Northern Sierra of Puebla - Zacatlán vs Chignahuapan"
   ],
   "cell_type": "markdown",
   "metadata": {}
  },
  {
   "source": [
    "## Introduction\n",
    "\n",
    "In this work, I will compare two small cities (towns) located in the country province of Mexico on the so-called Northern Sierra of Puebla in the middle of Mexico. Zacatlan and Chinahuapan are the names of these towns. Both are located in a geographical zone which is a transition zone between the central Mexican plateau, and the coastal zone of the Gulf of Mexico. This transition is characterized by a complicated orography with mountains and ravines that hardens access to the more isolated country population. In fact, both cities are municipal heads. So, although these small cities are reasonably developed, they have some populations that live in rural isolated small communities.\n",
    "\n",
    "But if all that has been stated is not interesting enough, even though both cities are close neighbors, they are not twin cities. Their historical governments have defined a particular development for each of them. Zacatlan has been historically a neural point for the trade routes between central Mexico (Mexico City and Puebla) and the coastal zone of the Gulf of Mexico (Veracruz). In addition, nowadays Zacatlan rulers have been trying to make this city an attractive tourism landmark. So, the downtown of Zacatlan has been changed from a typical rural Mexican town into a place with nice amenities with the purpose to attract foreign tourism."
   ],
   "cell_type": "markdown",
   "metadata": {}
  },
  {
   "source": [
    "On the other side, Chignahuapan government has impulsed industrial and economical development. Chigahuaán is also trying to attract tourism, but a different kind which could arrive and purchase the local products. One of these products is the production of \"Christmas spheres\" and other Christmas decorations. This economical activity is maybe one of the most important across Mexico in this area.\n",
    "\n",
    "So, the purpose of this work is to explore these similitudes and differences. I will try to state how the local population's way of life can be affected by the different development plans in two cities close enough to make a comparison. I expect to find evidence about how the amount and type of amenities are a consequence of the different economical activities."
   ],
   "cell_type": "markdown",
   "metadata": {}
  },
  {
   "source": [
    "![Sierra](images/Sierra.jpg)"
   ],
   "cell_type": "markdown",
   "metadata": {}
  },
  {
   "source": [
    "## Data\n",
    "\n",
    "For this project, I will use \n",
    "\n",
    "* The data available on the internet, both on commercial websites and on government websites\n",
    "* The official data from the Mexican National Institute of Statistics Geography and Information (INEGI, by its acronym in Spanish). \n",
    "* Foursquare app for collecting information about the different landmarks across Zacatlan and Chignahuapan.\n",
    "\n",
    "\n",
    "\n",
    "\n",
    "\n"
   ],
   "cell_type": "markdown",
   "metadata": {}
  },
  {
   "source": [
    "![Sierra](images/INEGI.jpg)"
   ],
   "cell_type": "markdown",
   "metadata": {}
  },
  {
   "source": [
    "## Methodology\n",
    "\n",
    "The methodology that will be used is the same that we have been using across the course. First, I will download, process, and clean the data available. Later, I will perform an exploratory analysis of the data collected in order to gain insights into them. In this stage, I will visualize data mixed with geodata.\n",
    "\n",
    "I will use unsupervised analysis (clustering) to better identified any pattern in the geo data available. I will try to identify different classes of landmarks with the purpose of characterizing the socioeconomic orientation of both towns.\n",
    "\n",
    "Finally, I will analyze and discuss the findings train to state if the different economical activities of these cities really determine the class and amount of amenities and other landmarks.\n",
    "\n"
   ],
   "cell_type": "markdown",
   "metadata": {}
  },
  {
   "source": [
    "![Sierra](images/Zacatlan.jpg)"
   ],
   "cell_type": "markdown",
   "metadata": {}
  },
  {
   "source": [
    "![Sierra](images/Chignahuapan.jpg)"
   ],
   "cell_type": "markdown",
   "metadata": {}
  }
 ]
}