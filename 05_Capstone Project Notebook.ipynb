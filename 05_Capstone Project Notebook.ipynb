{
 "metadata": {
  "language_info": {
   "codemirror_mode": {
    "name": "ipython",
    "version": 3
   },
   "file_extension": ".py",
   "mimetype": "text/x-python",
   "name": "python",
   "nbconvert_exporter": "python",
   "pygments_lexer": "ipython3",
   "version": "3.6.13"
  },
  "orig_nbformat": 2,
  "kernelspec": {
   "name": "python3613jvsc74a57bd026a716618ec01ce43a4d5d8e19bd7fd65e1036c0e8f7dfd38cf9904a6ff8fbff",
   "display_name": "Python 3.6.13 64-bit"
  },
  "metadata": {
   "interpreter": {
    "hash": "26a716618ec01ce43a4d5d8e19bd7fd65e1036c0e8f7dfd38cf9904a6ff8fbff"
   }
  }
 },
 "nbformat": 4,
 "nbformat_minor": 2,
 "cells": [
  {
   "source": [
    "# Week 4 \n",
    "\n",
    "# Peer-graded Assignment: Capstone Poject - The Battle of Neighborhoods (First Week) \n",
    "\n",
    "\n",
    "## Educational Objectives\n",
    "\n",
    "This Notebook will be used for the final project. In this first week, I state the introduction, background, motivation, scope definition, data & methodology used. This capstone project is done by Conrado Montealegre.\n",
    "\n"
   ],
   "cell_type": "markdown",
   "metadata": {}
  },
  {
   "source": [
    "<h1 id=\"Title: Comparison of two small cities (towns) in the Northern Sierra of Puebla - Zacatlán vs Chignahuapan\">Title: Comparison of two small cities (towns) in the Northern Sierra of Puebla - Zacatlán vs Chignahuapan</h1>"
   ],
   "cell_type": "markdown",
   "metadata": {}
  },
  {
   "source": [
    "<h2 id=\"1. Introduction (motivations and justification, business/social problem)\">1. Introduction (motivations and justification, business/social problem)</h2>\n",
    "\n",
    "In this work, I will compare two small cities (towns) located in the country province of Mexico on the so-called Northern Sierra of Puebla in the middle of Mexico. Zacatlan and Chinahuapan are the names of these towns. Both are located in a geographical zone which is a transition zone between the central Mexican plateau, and the coastal zone of the Gulf of Mexico. This transition is characterized by a complicated orography with mountains and ravines that hardens access to the more isolated country population. In fact, both cities are municipal heads. So, although these small cities are reasonably developed, they have some populations that live in rural isolated small communities.\n",
    "\n",
    "But if all that has been stated is not interesting enough, even though both cities are close neighbors, they are not twin cities. Their historical governments have defined a particular development for each of them. Zacatlan has been historically a neural point for the trade routes between central Mexico (Mexico City and Puebla) and the coastal zone of the Gulf of Mexico (Veracruz). In addition, nowadays Zacatlan rulers have been trying to make this city an attractive tourism landmark. So, the downtown of Zacatlan has been changed from a typical rural Mexican town into a place with nice amenities with the purpose to attract foreign tourism."
   ],
   "cell_type": "markdown",
   "metadata": {}
  },
  {
   "source": [
    "On the other side, Chignahuapan government has impulsed industrial and economical development. Chigahuaán is also trying to attract tourism, but a different kind which could arrive and purchase the local products. One of these products is the production of \"Christmas spheres\" and other Christmas decorations. This economical activity is maybe one of the most important across Mexico in this area.\n",
    "\n",
    "So, the purpose of this work is to explore these similitudes and differences. I will try to state how the local population's way of life can be affected by the different development plans in two cities close enough to make a comparison. I expect to find evidence about how the amount and type of amenities are a consequence of the different economical activities."
   ],
   "cell_type": "markdown",
   "metadata": {}
  },
  {
   "source": [
    "![Sierra](images/Sierra.jpg)"
   ],
   "cell_type": "markdown",
   "metadata": {}
  },
  {
   "source": [
    "<h2 id=\"2. Data\">2. Data</h2>\n",
    "\n",
    "For this project, I will use \n",
    "\n",
    "* The data available on the internet, both on commercial websites and on government websites\n",
    "* The official data from the Mexican National Institute of Statistics Geography and Information (INEGI, by its acronym in Spanish). \n",
    "* Foursquare app for collecting information about the different landmarks across Zacatlan and Chignahuapan.\n",
    "\n",
    "\n",
    "\n",
    "\n",
    "\n"
   ],
   "cell_type": "markdown",
   "metadata": {}
  },
  {
   "source": [
    "![Sierra](images/INEGI.jpg)"
   ],
   "cell_type": "markdown",
   "metadata": {}
  },
  {
   "source": [
    "<h2 id=\"3. Methodology\">3. Methodology</h2>\n",
    "\n",
    "The methodology that will be used is the same that we have been using across the course. First, I will download, process, and clean the data available. Later, I will perform an exploratory analysis of the data collected in order to gain insights into them. In this stage, I will visualize data mixed with geodata.\n",
    "\n",
    "I will use unsupervised analysis (clustering) to better identified any pattern in the geo data available. I will try to identify different classes of landmarks with the purpose of characterizing the socioeconomic orientation of both towns.\n",
    "\n",
    "Finally, I will analyze and discuss the findings train to state if the different economical activities of these cities really determine the class and amount of amenities and other landmarks.\n",
    "\n"
   ],
   "cell_type": "markdown",
   "metadata": {}
  },
  {
   "source": [
    "![Sierra](images/Zacatlan.jpg)"
   ],
   "cell_type": "markdown",
   "metadata": {}
  },
  {
   "source": [
    "![Sierra](images/Chignahuapan.jpg)"
   ],
   "cell_type": "markdown",
   "metadata": {}
  },
  {
   "source": [
    "<h3 id=\"3.1. Getting/Creating Data\">3.1. Getting/Creating Data</h3>"
   ],
   "cell_type": "markdown",
   "metadata": {}
  },
  {
   "source": [
    "### Importing libraries"
   ],
   "cell_type": "markdown",
   "metadata": {}
  },
  {
   "cell_type": "code",
   "execution_count": 19,
   "metadata": {},
   "outputs": [],
   "source": [
    "from config import CLIENT_ID, CLIENT_SECRET, ACCESS_TOKEN, VERSION, LIMIT\n",
    "import pandas as pd\n",
    "pd.set_option('display.max_columns', None)\n",
    "pd.set_option('display.max_rows', None)\n",
    "import numpy as np\n",
    "from geopy.geocoders import Nominatim\n"
   ]
  },
  {
   "source": [
    "### Getting coordinates for Zacatlan and Chignahuapan"
   ],
   "cell_type": "markdown",
   "metadata": {}
  },
  {
   "cell_type": "code",
   "execution_count": 50,
   "metadata": {},
   "outputs": [
    {
     "output_type": "stream",
     "name": "stdout",
     "text": [
      "Zacatlan, Puebla, Mexico Latitude = 19.96059515, Longitude = -98.00572136341704\n",
      "Chignahuapan, Puebla, Mexico Latitude = 19.8213915, Longitude = -98.11775714603566\n"
     ]
    }
   ],
   "source": [
    "locator = Nominatim(user_agent=\"myGeocoder\")\n",
    "\n",
    "# Getting coordinates for Zacatlan\n",
    "#str_Zacatlan = 'Zacatlan, Puebla, Mexico'\n",
    "str_Zacatlan = 'Zacatlan, Puebla, Mexico'\n",
    "zacatlan_loc = locator.geocode(str_Zacatlan)\n",
    "print(\"{} Latitude = {}, Longitude = {}\".format(str_Zacatlan,\n",
    "zacatlan_loc.latitude, zacatlan_loc.longitude))\n",
    "zacatlan_center = [zacatlan_loc.latitude, zacatlan_loc.longitude]\n",
    "\n",
    "# Getting coordinates for Chignahuapan\n",
    "str_Chignahuapan = 'Chignahuapan, Puebla, Mexico'\n",
    "chignahuapan_loc = locator.geocode(str_Chignahuapan)\n",
    "print(\"{} Latitude = {}, Longitude = {}\".format(str_Chignahuapan,\n",
    "chignahuapan_loc.latitude, chignahuapan_loc.longitude))\n",
    "chignahuapan_center = [chignahuapan_loc.latitude, chignahuapan_loc.longitude]"
   ]
  },
  {
   "source": [
    "### Map of Zacatlan"
   ],
   "cell_type": "markdown",
   "metadata": {}
  },
  {
   "cell_type": "code",
   "execution_count": 23,
   "metadata": {},
   "outputs": [],
   "source": [
    "import folium"
   ]
  },
  {
   "cell_type": "code",
   "execution_count": 51,
   "metadata": {},
   "outputs": [
    {
     "output_type": "execute_result",
     "data": {
      "text/plain": [
       "<folium.folium.Map at 0x246984e7f60>"
      ],
      "text/html": "<div style=\"width:100%;\"><div style=\"position:relative;width:100%;height:0;padding-bottom:60%;\"><iframe src=\"about:blank\" style=\"position:absolute;width:100%;height:100%;left:0;top:0;border:none !important;\" data-html=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 onload=\"this.contentDocument.open();this.contentDocument.write(atob(this.getAttribute('data-html')));this.contentDocument.close();\" allowfullscreen webkitallowfullscreen mozallowfullscreen></iframe></div></div>"
     },
     "metadata": {},
     "execution_count": 51
    }
   ],
   "source": [
    "map_zacatlan = folium.Map(location=zacatlan_center, zoom_start=15)\n",
    "folium.Marker(zacatlan_center, popup='Zacatlán').add_to(map_zacatlan)\n",
    "map_zacatlan"
   ]
  },
  {
   "source": [
    "### Map of Chignahuapan"
   ],
   "cell_type": "markdown",
   "metadata": {}
  },
  {
   "cell_type": "code",
   "execution_count": 30,
   "metadata": {},
   "outputs": [
    {
     "output_type": "execute_result",
     "data": {
      "text/plain": [
       "<folium.folium.Map at 0x2469a4f4ac8>"
      ],
      "text/html": "<div style=\"width:100%;\"><div style=\"position:relative;width:100%;height:0;padding-bottom:60%;\"><iframe src=\"about:blank\" style=\"position:absolute;width:100%;height:100%;left:0;top:0;border:none !important;\" data-html=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 onload=\"this.contentDocument.open();this.contentDocument.write(atob(this.getAttribute('data-html')));this.contentDocument.close();\" allowfullscreen webkitallowfullscreen mozallowfullscreen></iframe></div></div>"
     },
     "metadata": {},
     "execution_count": 30
    }
   ],
   "source": [
    "map_chignahuapan = folium.Map(location=chignahuapan_center, zoom_start=15)\n",
    "folium.Marker(chignahuapan_center, popup='Chignauapan').add_to(map_chignahuapan)\n",
    "map_chignahuapan"
   ]
  }
 ]
}