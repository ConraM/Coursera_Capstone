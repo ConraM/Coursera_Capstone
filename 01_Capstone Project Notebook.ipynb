{
 "metadata": {
  "language_info": {
   "codemirror_mode": {
    "name": "ipython",
    "version": 3
   },
   "file_extension": ".py",
   "mimetype": "text/x-python",
   "name": "python",
   "nbconvert_exporter": "python",
   "pygments_lexer": "ipython3",
   "version": "3.6.9-final"
  },
  "orig_nbformat": 2,
  "kernelspec": {
   "name": "python369jvsc74a57bd04110a8805df0fe981ad15bf6db969d29836080ce0f26fdbf9d2afe351c67f3d0",
   "display_name": "Python 3.6.9 64-bit"
  },
  "metadata": {
   "interpreter": {
    "hash": "4110a8805df0fe981ad15bf6db969d29836080ce0f26fdbf9d2afe351c67f3d0"
   }
  }
 },
 "nbformat": 4,
 "nbformat_minor": 2,
 "cells": [
  {
   "source": [
    "\n",
    "# Week 1 \n",
    "\n",
    "# Peer-graded Assignment: Capstone Project Notebook \n",
    "\n",
    "\n",
    "## Objectives\n",
    "\n",
    "This Notebook will be mainly used for the capstone project done by Conrado Montealegre\n",
    "\n"
   ],
   "cell_type": "markdown",
   "metadata": {}
  },
  {
   "source": [
    "<h2 id=\"importing_libraries\">Importing required libraries</h2>"
   ],
   "cell_type": "markdown",
   "metadata": {}
  },
  {
   "cell_type": "code",
   "execution_count": 3,
   "metadata": {},
   "outputs": [
    {
     "output_type": "stream",
     "name": "stdout",
     "text": [
      "Hello Capstone Project Course\n"
     ]
    }
   ],
   "source": [
    "import pandas as pd\n",
    "import numpy as np\n",
    "print (\"Hello Capstone Project Course\")"
   ]
  }
 ]
}